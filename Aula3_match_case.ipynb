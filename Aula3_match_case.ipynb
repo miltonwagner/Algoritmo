{
  "nbformat": 4,
  "nbformat_minor": 0,
  "metadata": {
    "colab": {
      "provenance": [],
      "include_colab_link": true
    },
    "kernelspec": {
      "name": "python3",
      "display_name": "Python 3"
    },
    "language_info": {
      "name": "python"
    }
  },
  "cells": [
    {
      "cell_type": "markdown",
      "metadata": {
        "id": "view-in-github",
        "colab_type": "text"
      },
      "source": [
        "<a href=\"https://colab.research.google.com/github/miltonwagner/Algoritmo/blob/main/Aula3_match_case.ipynb\" target=\"_parent\"><img src=\"https://colab.research.google.com/assets/colab-badge.svg\" alt=\"Open In Colab\"/></a>"
      ]
    },
    {
      "cell_type": "markdown",
      "source": [
        "# **🎯 Aula: Estrutura match case em Python**\n",
        "\n",
        "# **1. Introdução ao match case**\n",
        "\n",
        "O match case foi introduzido no **Python 3.10** como uma forma mais elegante de lidar com múltiplas condições, substituindo estruturas complexas de if-elif-else.\n",
        "\n",
        "Ele é inspirado no switch case de outras linguagens, mas com mais recursos, como correspondência de padrões e desestruturação de dados.\n",
        "\n",
        "**✅ Principais vantagens do match case:**\n",
        "\n",
        "* Código mais legível e organizado.\n",
        "* Permite correspondência de padrões, não apenas valores diretos.\n",
        "* Suporte para tuplas, listas, dicionários e classes."
      ],
      "metadata": {
        "id": "mOq5WmJIDo85"
      }
    },
    {
      "cell_type": "markdown",
      "source": [
        "# **2. Estrutura básica do match case**\n",
        "\n",
        "A sintaxe do match case segue este formato:"
      ],
      "metadata": {
        "id": "kB_cPyxuD7MB"
      }
    },
    {
      "cell_type": "code",
      "source": [
        "match expressão:\n",
        "    case padrão1:\n",
        "        # Código executado se expressão corresponder ao padrão1\n",
        "    case padrão2:\n",
        "        # Código executado se expressão corresponder ao padrão2\n",
        "    case _:\n",
        "        # Caso padrão (equivalente ao \"default\" do switch case)\n"
      ],
      "metadata": {
        "id": "iTuuREYkD8wB"
      },
      "execution_count": null,
      "outputs": []
    },
    {
      "cell_type": "markdown",
      "source": [
        "**Exemplo 1: Correspondência de valores exatos**\n",
        "\n",
        "Este é o caso mais simples, onde o match case é utilizado para corresponder valores exatos, como uma correspondência de um valor específico."
      ],
      "metadata": {
        "id": "H7ITaHXOE27h"
      }
    },
    {
      "cell_type": "code",
      "source": [
        "dia = input(\"Digite o dia da semana: \")\n",
        "\n",
        "match dia:\n",
        "  case \"segunda\":\n",
        "    print(\"Início da semana\")\n",
        "  case \"terça\":\n",
        "    print(\"Dia de trabalho\")\n",
        "  case \"quarta\":\n",
        "    print(\"Meio da semana\")\n",
        "  case \"quinta\":\n",
        "    print(\"Quase lá!\")\n",
        "  case \"sexta\":\n",
        "    print(\"Sextou!\")\n",
        "  case \"sábado\" | \"domingo\":\n",
        "    print(\"Final de semana\")\n",
        "  case _:\n",
        "    print(\"Dia inválido\")\n",
        "\n"
      ],
      "metadata": {
        "id": "3Nr17BCSE675",
        "colab": {
          "base_uri": "https://localhost:8080/"
        },
        "outputId": "fd4ff3e2-0831-47b2-ac5a-9287c970c384"
      },
      "execution_count": null,
      "outputs": [
        {
          "output_type": "stream",
          "name": "stdout",
          "text": [
            "Digite o dia da semana: ola\n",
            "Dia inválido\n"
          ]
        }
      ]
    },
    {
      "cell_type": "markdown",
      "source": [
        "**🛠 Explicação:**\n",
        "\n",
        "* O match case compara a variável dia com os valores que você define nos case. Cada valor pode ser um valor exato (como \"segunda\", \"terça\", etc.).\n",
        "* A linha case \"sábado\" | \"domingo\": usa o operador | para combinar múltiplos valores no mesmo caso, funcionando como um or.\n",
        "* O case _ é o coringa que será usado quando nenhum dos valores anteriores for encontrado."
      ],
      "metadata": {
        "id": "Uz7ANaSoE9gZ"
      }
    },
    {
      "cell_type": "markdown",
      "source": [
        "**Exemplo 2: Identificação de Tipos de Produto**"
      ],
      "metadata": {
        "id": "emuP51wR3Yr2"
      }
    },
    {
      "cell_type": "code",
      "source": [
        "codigo = input(\"Digite o código do produto: \")\n",
        "\n",
        "match codigo:\n",
        "    case \"A001\":\n",
        "        print(\"Produto eletrônico\")\n",
        "    case \"B002\":\n",
        "        print(\"Produto alimentício\")\n",
        "    case \"C003\":\n",
        "        print(\"Produto de vestuário\")\n",
        "    case \"D004\":\n",
        "        print(\"Produto de limpeza\")\n",
        "    case _:\n",
        "        print(\"Código inválido\")\n"
      ],
      "metadata": {
        "colab": {
          "base_uri": "https://localhost:8080/"
        },
        "id": "6UwR789D3gud",
        "outputId": "d1f1d64e-fe8a-4fcc-b6ee-0dcfea56a956"
      },
      "execution_count": null,
      "outputs": [
        {
          "output_type": "stream",
          "name": "stdout",
          "text": [
            "Digite o código do produto: C003\n",
            "Produto de vestuário\n"
          ]
        }
      ]
    },
    {
      "cell_type": "markdown",
      "source": [
        "**Explicação:**\n",
        "* O código solicita que o usuário insira um código de produto.\n",
        "\n",
        "* Utiliza o match case para identificar e imprimir o tipo do produto correspondente ao código inserido."
      ],
      "metadata": {
        "id": "nJno0Vgx3q22"
      }
    },
    {
      "cell_type": "markdown",
      "source": [
        "**Exemplo 3: Classificação de um Animal por Tipo**\n",
        "\n",
        "Neste exemplo, vamos classificar o tipo de animal com base na entrada do usuário."
      ],
      "metadata": {
        "id": "89lpGd6-4OXl"
      }
    },
    {
      "cell_type": "code",
      "source": [
        "animal = input(\"Digite o nome de um animal: \").lower()\n",
        "\n",
        "match animal:\n",
        "    case \"cachorro\" | \"gato\" | \"coelho\":\n",
        "        print(\"Mamífero\")\n",
        "    case \"pássaro\" | \"peru\" | \"canário\":\n",
        "        print(\"Ave\")\n",
        "    case \"crocodilo\" | \"lagarto\" | \"iguana\":\n",
        "        print(\"Réptil\")\n",
        "    case \"tubarão\" | \"salmão\" | \"sardinha\":\n",
        "        print(\"Peixe\")\n",
        "    case _:\n",
        "        print(\"Animal desconhecido\")\n"
      ],
      "metadata": {
        "id": "sIPTnLFc4bFt"
      },
      "execution_count": null,
      "outputs": []
    },
    {
      "cell_type": "markdown",
      "source": [
        "# **3. Criando Menus Interativos com match case**\n",
        "\n",
        "Quando usado em um menu interativo, o match case torna o código mais intuitivo, permitindo que o programador mapeie facilmente as opções de um menu a ações específicas.\n"
      ],
      "metadata": {
        "id": "34fQFg5lFBnJ"
      }
    },
    {
      "cell_type": "markdown",
      "source": [
        "**Exemplo 1: Menu de opções simples**\n",
        "\n",
        "Vamos criar um menu simples onde o usuário pode escolher uma opção, e o programa executa uma ação com base na escolha."
      ],
      "metadata": {
        "id": "ZE6ztYPWGLDR"
      }
    },
    {
      "cell_type": "code",
      "source": [
        "# Menu interativo utilizando match case\n",
        "opcao = int(input(\"Escolha uma opção: \\n1. Exibir mensagem\\n2. Calcular soma\\n3. Sair\\n\"))\n",
        "\n",
        "match opcao:\n",
        "    case 1:\n",
        "        print(\"Você escolheu 'Exibir mensagem'. Olá, bem-vindo ao menu!\")\n",
        "    case 2:\n",
        "        numero1 = int(input(\"Digite o primeiro número: \"))\n",
        "        numero2 = int(input(\"Digite o segundo número: \"))\n",
        "        print(f\"A soma é: {numero1 + numero2}\")\n",
        "    case 3:\n",
        "        print(\"Saindo do programa. Até logo!\")\n",
        "    case _:\n",
        "        print(\"Opção inválida! Tente novamente.\")\n"
      ],
      "metadata": {
        "id": "02eyuBv2GM6B"
      },
      "execution_count": null,
      "outputs": []
    },
    {
      "cell_type": "markdown",
      "source": [
        "**Explicação:**\n",
        "\n",
        "* **`input()`**: O programa solicita ao usuário uma entrada, que é convertida para um número inteiro (por isso a função int()).\n",
        "* **`match opcao:`** A variável opcao será comparada com os padrões definidos nos case.\n",
        "* **`case 1, case 2, case 3`**: Cada opção do menu mapeia para uma ação específica.\n",
        "* **`case _:`** Esse coringa garante que qualquer valor fora das opções válidas será tratado com uma mensagem de erro."
      ],
      "metadata": {
        "id": "O_lmU8SrGPGD"
      }
    },
    {
      "cell_type": "markdown",
      "source": [
        "**Exemplo 2: Menu com operação de multiplicação**\n",
        "\n",
        "Neste exemplo, vamos criar um menu que permite ao usuário escolher entre realizar uma multiplicação ou sair do programa."
      ],
      "metadata": {
        "id": "SRaSMsCIGb1h"
      }
    },
    {
      "cell_type": "code",
      "source": [
        "# Menu interativo para multiplicação\n",
        "opcao = int(input(\"Escolha uma opção: \\n1. Multiplicar números\\n2. Sair\\n\"))\n",
        "\n",
        "match opcao:\n",
        "    case 1:\n",
        "        numero1 = int(input(\"Digite o primeiro número: \"))\n",
        "        numero2 = int(input(\"Digite o segundo número: \"))\n",
        "        print(f\"O resultado da multiplicação é: {numero1 * numero2}\")\n",
        "    case 2:\n",
        "        print(\"Saindo do programa.\")\n",
        "    case _:\n",
        "        print(\"Opção inválida! Por favor, escolha uma opção válida.\")\n"
      ],
      "metadata": {
        "id": "SO7LP-16Gd05"
      },
      "execution_count": null,
      "outputs": []
    },
    {
      "cell_type": "markdown",
      "source": [
        "**Explicação:**\n",
        "* O menu tem duas opções: multiplicar números ou sair.\n",
        "* Se o usuário escolher a opção 1, o programa pedirá dois números e fará a multiplicação.\n",
        "* Se o usuário escolher a opção 2, o programa sairá."
      ],
      "metadata": {
        "id": "N2sPIlQoGeeZ"
      }
    },
    {
      "cell_type": "markdown",
      "source": [
        "**Exempo 3. Caixa Eletrônico com um menu utilizando match case, onde o usuário pode consultar saldo, sacar, depositar ou sair**"
      ],
      "metadata": {
        "id": "lqV_HiGx6yMm"
      }
    },
    {
      "cell_type": "code",
      "source": [
        "saldo = 1000  # Saldo inicial da conta\n",
        "\n",
        "while True:\n",
        "    print(\"\\n===== CAIXA ELETRÔNICO =====\")\n",
        "    print(\"1 - Saldo\")\n",
        "    print(\"2 - Saque\")\n",
        "    print(\"3 - Depósito\")\n",
        "    print(\"4 - Sair\")\n",
        "\n",
        "    opcao = input(\"Escolha uma opção: \")\n",
        "\n",
        "    match opcao:\n",
        "        case \"1\":\n",
        "            print(f\"Seu saldo atual é R$ {saldo:.2f}\")\n",
        "\n",
        "        case \"2\":\n",
        "            valor = float(input(\"Digite o valor para saque: \"))\n",
        "            if valor > saldo:\n",
        "                print(\"Saldo insuficiente!\")\n",
        "            else:\n",
        "                saldo -= valor\n",
        "                print(f\"Saque de R$ {valor:.2f} realizado. Novo saldo: R$ {saldo:.2f}\")\n",
        "\n",
        "        case \"3\":\n",
        "            valor = float(input(\"Digite o valor para depósito: \"))\n",
        "            saldo += valor\n",
        "            print(f\"Depósito de R$ {valor:.2f} realizado. Novo saldo: R$ {saldo:.2f}\")\n",
        "\n",
        "        case \"4\":\n",
        "            print(\"Saindo... Obrigado por utilizar nosso caixa eletrônico!\")\n",
        "            break\n",
        "\n",
        "        case _:\n",
        "            print(\"Opção inválida. Escolha uma opção válida.\")\n"
      ],
      "metadata": {
        "id": "KX8xtIxQ66dO"
      },
      "execution_count": null,
      "outputs": []
    },
    {
      "cell_type": "markdown",
      "source": [
        "**Considerações sobre o uso do match case em menus**\n",
        "\n",
        "* **Legibilidade**: O match case torna o código mais legível em comparação com o uso de múltiplos if-elif-else. Isso é especialmente útil quando você tem várias opções no menu.\n",
        "* **Facilidade de manutenção**: Se você precisar adicionar mais opções no menu, basta adicionar novos case com a lógica correspondente.\n",
        "* **Coringa (_)**: O case _ ajuda a capturar qualquer valor não mapeado, garantindo que entradas inválidas sejam tratadas de maneira adequada."
      ],
      "metadata": {
        "id": "GaPIFr9IGrNI"
      }
    },
    {
      "cell_type": "markdown",
      "source": [
        "# **Lista de 10 exercícios que vão do básico ao mais avançado, utilizando match case**\n",
        "\n",
        "**1. Conversor de Moedas**\n",
        "\n",
        "Implemente um conversor de moedas que permita ao usuário escolher entre Dólar (USD), Euro (EUR) e Libra (GBP) e converter um valor informado para Reais (BRL).\n",
        "\n",
        "**2 . Cálculo de Área de Figuras Geométricas**\n",
        "\n",
        "Desenvolva um programa que permita ao usuário escolher entre calcular a área de um quadrado, retângulo ou triângulo e insira os valores necessários para o cálculo.\n",
        "\n",
        "**3. Sistema de Login Simples**\n",
        "\n",
        "O programa deve pedir ao usuário que informe seu nome de usuário e, com base nisso, conceder um nível de acesso:\n",
        "\n",
        "Admin → Acesso total\n",
        "\n",
        "Professor → Acesso ao ambiente acadêmico\n",
        "\n",
        "Aluno → Acesso ao ambiente de estudos\n",
        "\n",
        "**4. Cálculo de Desconto por Categoria**\n",
        "\n",
        "O usuário deve informar o tipo de produto (Eletrônico, Roupas, Alimentos, Móveis), e o programa exibirá o percentual de desconto correspondente.\n",
        "\n",
        "**5 . Tradutor de Cores**\n",
        "\n",
        "O usuário informa uma cor em português (vermelho, azul, verde, amarelo), e o programa exibe sua tradução para inglês.\n"
      ],
      "metadata": {
        "id": "_WLae2a69Pud"
      }
    },
    {
      "cell_type": "markdown",
      "source": [
        "**6. Simulação de Atendimento Telefônico**\n",
        "\n",
        "O usuário seleciona uma opção de atendimento telefônico:\n",
        "\n",
        "1 - Suporte Técnico\n",
        "\n",
        "2 - Financeiro\n",
        "\n",
        "3 - Cancelamento\n",
        "\n",
        "4 - Falar com um atendente\n",
        "\n",
        "**7. Calculadora Simples**\n",
        "\n",
        "O usuário escolhe uma operação matemática (+, -, *, /) e insere dois números. O programa exibe o resultado.\n",
        "\n",
        "**8. Sistema de Reserva de Passagens**\n",
        "\n",
        "O usuário escolhe um destino (São Paulo, Rio de Janeiro, Curitiba, Salvador) e recebe o valor da passagem.\n",
        "\n",
        "**9. Simulador de Compra em Loja Online**\n",
        "\n",
        "O usuário escolhe um produto e o programa informa o preço.\n",
        "\n",
        "**10. Sistema de Pagamento**\n",
        "\n",
        "O usuário escolhe uma forma de pagamento e o programa informa se há desconto ou acréscimo."
      ],
      "metadata": {
        "id": "fc2BdnK1_QFe"
      }
    },
    {
      "cell_type": "markdown",
      "source": [],
      "metadata": {
        "id": "XNx9mI_V_fvN"
      }
    }
  ]
}