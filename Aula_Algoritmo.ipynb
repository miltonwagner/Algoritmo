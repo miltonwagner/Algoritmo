{
  "nbformat": 4,
  "nbformat_minor": 0,
  "metadata": {
    "colab": {
      "provenance": [],
      "authorship_tag": "ABX9TyOlN6nGhhXJ66wj8Td2Ss6+",
      "include_colab_link": true
    },
    "kernelspec": {
      "name": "python3",
      "display_name": "Python 3"
    },
    "language_info": {
      "name": "python"
    }
  },
  "cells": [
    {
      "cell_type": "markdown",
      "metadata": {
        "id": "view-in-github",
        "colab_type": "text"
      },
      "source": [
        "<a href=\"https://colab.research.google.com/github/miltonwagner/Algoritmo/blob/main/Aula_Algoritmo.ipynb\" target=\"_parent\"><img src=\"https://colab.research.google.com/assets/colab-badge.svg\" alt=\"Open In Colab\"/></a>"
      ]
    },
    {
      "cell_type": "code",
      "execution_count": null,
      "metadata": {
        "id": "SzWGGzxno8up"
      },
      "outputs": [],
      "source": [
        "#Lista de Exercicio\n",
        "#Receba dois números do usuário e mostre qual deles é o maior.\n",
        "\n",
        "#Solicite a idade do usuário e informe se ele é menor de idade, maior de idade ou idoso (considerando 18 e 65 anos como limites).\n",
        "\n",
        "#Peça ao usuário para inserir a idade de uma pessoa e classifique-a como \"Criança\" (0-12 anos), \"Adolescente\" (13-17 anos), \"Adulto\" (18-64 anos) ou \"Idoso\" (65+ anos).\n",
        "\n",
        "#Crie uma calculadora simples que permita ao usuário escolher uma operação (adição, subtração, multiplicação ou divisão) e dois números, e então exiba o resultado.\n",
        "\n",
        "#Peça um número ao usuário e informe se ele é par ou ímpar.\n",
        "\n",
        "#Crie um programa que simule um sistema de login. Solicite um nome de usuário e senha e verifique se as credenciais estão corretas.\n",
        "\n",
        "#Receba a nota de um aluno e classifique-a como A (90-100), B (80-89), C (70-79), D (60-69), ou F (menos de 60).\n",
        "\n",
        "#Peça ao usuário seu peso e altura, calcule o Índice de Massa Corporal (IMC) e classifique-o como \"Abaixo do peso\", \"Peso normal\", \"Sobrepeso\" ou \"Obesidade\".\n",
        "\n",
        "#Solicite o preço de um produto e aplique um desconto de 10% se o preço for maior que R$ 100. Exiba o valor final.\n",
        "\n",
        "#Desenvolva um programa que permita ao usuário escolher uma operação (saque, depósito) e simule o comportamento de um caixa eletrônico com validações básicas (ex.: saldo insuficiente para saque).\n",
        "\n",
        "#Faça um programa que leia a idade e a categoria de um jogador de futebol (juvenil, adulto, veterano) e calcule a sua classificação no time."
      ]
    },
    {
      "cell_type": "code",
      "source": [
        "#1 - Receba dois números do usuário e mostre qual deles é o maior.\n",
        "num1 = float(input(\"Digite o primeiro número: \"))\n",
        "num2 = float(input(\"Digite o segundo número: \"))\n",
        "\n",
        "if num1 > num2:\n",
        "    print(f\"O maior número é: {num1}\")\n",
        "elif num2 > num1:\n",
        "    print(f\"O maior número é: {num2}\")\n",
        "else:\n",
        "    print(\"Os números são iguais.\")"
      ],
      "metadata": {
        "id": "u-2QP9JLspTK"
      },
      "execution_count": null,
      "outputs": []
    },
    {
      "cell_type": "code",
      "source": [
        "#2 - Solicite a idade do usuário e informe se ele é menor de idade,\n",
        "#maior de idade ou idoso (considerando 18 e 65 anos como limites).\n",
        "idade = int(input(\"Digite sua idade: \"))\n",
        "\n",
        "if idade < 18:\n",
        "    print(\"Você é menor de idade.\")\n",
        "elif idade < 65:\n",
        "    print(\"Você é maior de idade.\")\n",
        "else:\n",
        "    print(\"Você é idoso.\")"
      ],
      "metadata": {
        "id": "WIWp58k-tW-A"
      },
      "execution_count": null,
      "outputs": []
    },
    {
      "cell_type": "code",
      "source": [
        "#3 - Peça ao usuário para inserir a idade de uma pessoa e classifique-a como \"Criança\" (0-12 anos),\n",
        "# \"Adolescente\" (13-17 anos), \"Adulto\" (18-64 anos) ou \"Idoso\" (65+ anos).\n",
        "idade = int(input(\"Digite a idade: \"))\n",
        "\n",
        "if idade <= 12:\n",
        "    print(\"Criança\")\n",
        "elif idade <= 17:\n",
        "    print(\"Adolescente\")\n",
        "elif idade <= 64:\n",
        "    print(\"Adulto\")\n",
        "else:\n",
        "    print(\"Idoso\")"
      ],
      "metadata": {
        "id": "faQDFWJztqOu"
      },
      "execution_count": null,
      "outputs": []
    },
    {
      "cell_type": "code",
      "source": [
        "#4 - Crie uma calculadora simples que permita ao usuário escolher uma operação (adição, subtração, multiplicação ou divisão)\n",
        "# e dois números, e então exiba o resultado.\n",
        "operacao = input(\"Escolha a operação (+, -, *, /): \")\n",
        "num1 = float(input(\"Digite o primeiro número: \"))\n",
        "num2 = float(input(\"Digite o segundo número: \"))\n",
        "\n",
        "if operacao == \"+\":\n",
        "    print(f\"Resultado: {num1 + num2}\")\n",
        "elif operacao == \"-\":\n",
        "    print(f\"Resultado: {num1 - num2}\")\n",
        "elif operacao == \"*\":\n",
        "    print(f\"Resultado: {num1 * num2}\")\n",
        "elif operacao == \"/\":\n",
        "    if num2 != 0:\n",
        "        print(f\"Resultado: {num1 / num2}\")\n",
        "    else:\n",
        "        print(\"Erro: divisão por zero.\")\n",
        "else:\n",
        "    print(\"Operação inválida.\")\n"
      ],
      "metadata": {
        "id": "XPD6OH8zt14F"
      },
      "execution_count": null,
      "outputs": []
    },
    {
      "cell_type": "code",
      "source": [
        "#5 - Peça um número ao usuário e informe se ele é par ou ímpar.\n",
        "numero = int(input(\"Digite um número: \"))\n",
        "\n",
        "if numero % 2 == 0:\n",
        "    print(\"O número é par.\")\n",
        "else:\n",
        "    print(\"O número é ímpar.\")\n"
      ],
      "metadata": {
        "id": "zrNNnLrDt_50"
      },
      "execution_count": null,
      "outputs": []
    },
    {
      "cell_type": "code",
      "source": [
        "#6 - Crie um programa que simule um sistema de login. Solicite um nome de usuário e senha e\n",
        "# verifique se as credenciais estão corretas.\n",
        "usuario_correto = \"admin\"\n",
        "senha_correta = \"1234\"\n",
        "\n",
        "usuario = input(\"Digite o nome de usuário: \")\n",
        "senha = getpass.getpass(\"Digite a senha: \")\n",
        "\n",
        "if usuario == usuario_correto and senha == senha_correta:\n",
        "    print(\"Login bem-sucedido!\")\n",
        "else:\n",
        "    print(\"Credenciais inválidas.\")"
      ],
      "metadata": {
        "id": "KDlkMj_YuGS3"
      },
      "execution_count": null,
      "outputs": []
    },
    {
      "cell_type": "code",
      "source": [
        "#7 - Receba a nota de um aluno e classifique-a como A (90-100),\n",
        "# B (80-89), C (70-79), D (60-69), ou F (menos de 60).\n",
        "nota = float(input(\"Digite a nota do aluno: \"))\n",
        "\n",
        "if nota >= 90:\n",
        "    print(\"Classificação: A\")\n",
        "elif nota >= 80:\n",
        "    print(\"Classificação: B\")\n",
        "elif nota >= 70:\n",
        "    print(\"Classificação: C\")\n",
        "elif nota >= 60:\n",
        "    print(\"Classificação: D\")\n",
        "else:\n",
        "    print(\"Classificação: F\")"
      ],
      "metadata": {
        "id": "FdiFMFM9uQ5O"
      },
      "execution_count": null,
      "outputs": []
    },
    {
      "cell_type": "code",
      "source": [
        "#8 - Peça ao usuário seu peso e altura, calcule o Índice de Massa Corporal (IMC)\n",
        "# e classifique-o como \"Abaixo do peso\", \"Peso normal\", \"Sobrepeso\" ou \"Obesidade\".\n",
        "peso = float(input(\"Digite seu peso (kg): \"))\n",
        "altura = float(input(\"Digite sua altura (m): \"))\n",
        "imc = peso / (altura ** 2)\n",
        "\n",
        "print(f\"Seu IMC é: {imc:.2f}\")\n",
        "\n",
        "if imc < 18.5:\n",
        "    print(\"Classificação: Abaixo do peso\")\n",
        "elif imc < 24.9:\n",
        "    print(\"Classificação: Peso normal\")\n",
        "elif imc < 29.9:\n",
        "    print(\"Classificação: Sobrepeso\")\n",
        "else:\n",
        "    print(\"Classificação: Obesidade\")"
      ],
      "metadata": {
        "id": "F1wbi-JfuZCT"
      },
      "execution_count": null,
      "outputs": []
    },
    {
      "cell_type": "code",
      "source": [
        "#9 - Solicite o preço de um produto e aplique um desconto de 10% se o preço for\n",
        "# maior que R$ 100. Exiba o valor final.\n",
        "preco = float(input(\"Digite o preço do produto: R$ \"))\n",
        "\n",
        "if preco > 100:\n",
        "    preco = preco * 0.9\n",
        "\n",
        "print(f\"Preço final: R$ {preco:.2f}\")\n"
      ],
      "metadata": {
        "id": "IuDVfuySuhBQ"
      },
      "execution_count": null,
      "outputs": []
    },
    {
      "cell_type": "code",
      "source": [
        "#10 - Desenvolva um programa que permita ao usuário escolher uma operação (saque, depósito)\n",
        "# e simule o comportamento de um caixa eletrônico\n",
        "# com validações básicas (ex.: saldo insuficiente para saque).\n",
        "saldo = 1000  # Saldo inicial\n",
        "\n",
        "print(\"Opções: [1] Saque [2] Depósito\")\n",
        "opcao = input(\"Escolha uma opção: \")\n",
        "\n",
        "if opcao == \"1\":\n",
        "    valor = float(input(\"Digite o valor do saque: \"))\n",
        "    if valor > saldo:\n",
        "        print(\"Saldo insuficiente!\")\n",
        "    else:\n",
        "        saldo -= valor\n",
        "        print(f\"Saque realizado! Saldo atual: R$ {saldo:.2f}\")\n",
        "elif opcao == \"2\":\n",
        "    valor = float(input(\"Digite o valor do depósito: \"))\n",
        "    saldo += valor\n",
        "    print(f\"Depósito realizado! Saldo atual: R$ {saldo:.2f}\")\n",
        "else:\n",
        "    print(\"Opção inválida.\")\n"
      ],
      "metadata": {
        "id": "NLVQMyA6up5T"
      },
      "execution_count": null,
      "outputs": []
    },
    {
      "cell_type": "markdown",
      "source": [],
      "metadata": {
        "id": "AnCDhwxJv5QQ"
      }
    },
    {
      "cell_type": "code",
      "source": [
        "#11 - Faça um programa que leia a idade e a categoria de um jogador de futebol\n",
        "# (juvenil, adulto, veterano) e calcule a sua classificação no time.\n",
        "idade = int(input(\"Digite a idade do jogador: \"))\n",
        "\n",
        "if idade <= 17:\n",
        "    print(\"Categoria: Juvenil\")\n",
        "elif idade <= 35:\n",
        "    print(\"Categoria: Adulto\")\n",
        "else:\n",
        "    print(\"Categoria: Veterano\")"
      ],
      "metadata": {
        "id": "oFb1p8_5u8ll"
      },
      "execution_count": null,
      "outputs": []
    }
  ]
}